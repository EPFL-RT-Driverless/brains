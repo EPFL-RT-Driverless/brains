{
 "cells": [
  {
   "cell_type": "code",
   "execution_count": null,
   "metadata": {},
   "outputs": [],
   "source": [
    "import numpy as np\n",
    "import torch\n",
    "import torch.nn as nn\n",
    "import torch.nn.functional as F\n",
    "import torch.optim as optim\n",
    "from torch.utils.data import Dataset, DataLoader\n",
    "from torch.utils.data.sampler import SubsetRandomSampler\n",
    "from torch.utils.data import TensorDataset\n",
    "\n",
    "DEVICE = torch.device(\"cuda:0\" if torch.cuda.is_available() else \"cpu\")"
   ]
  },
  {
   "attachments": {},
   "cell_type": "markdown",
   "metadata": {},
   "source": [
    "# Data\n"
   ]
  },
  {
   "cell_type": "code",
   "execution_count": null,
   "metadata": {},
   "outputs": [],
   "source": [
    "class OneFileDataset(Dataset):\n",
    "    def __init__(\n",
    "        self,\n",
    "        file_path: str = \"data/fsds_competition_2_10c.csv\",\n",
    "        transform=None,\n",
    "        return_time_stamp=False,\n",
    "    ):\n",
    "        self.data = torch.from_numpy(np.loadtxt(file_path, delimiter=\",\", skiprows=1))\n",
    "        self.transform = transform\n",
    "        self.return_time_stamp = return_time_stamp\n",
    "\n",
    "    def __len__(self):\n",
    "        return len(self.data) - 1\n",
    "\n",
    "    def __getitem__(self, idx):\n",
    "        if idx < \n",
    "        if self.return_time_stamp:\n",
    "            return self.data[idx, 0], self.data[idx, 1:-2], self.data[idx, -2:]\n",
    "        else:\n",
    "            return self.data[idx, 1:-2], self.data[idx, -2:]\n",
    "\n",
    "\n",
    "\n",
    "# class MultiFileDataset(Dataset):\n",
    "#     def __init__(\n",
    "#         self,\n",
    "#         file_paths=[\"data/fsds_competition_2_10c.csv\"],\n",
    "#         transform=None,\n",
    "#         return_time_stamp=False,\n",
    "#     ):\n",
    "#         self.data = torch.cat([torch.from_numpy(np.loadtxt(path, delimiter=',', skiprows=1 )) for path in file_paths], dim=0)\n",
    "#         self.transform = transform\n",
    "#         self.return_time_stamp = return_time_stamp\n",
    "\n",
    "#     def __len__(self):\n",
    "#         return len(self.data)\n",
    "    \n",
    "#     def __getitem__(self, idx):\n",
    "#         if self.return_time_stamp:\n",
    "#             return self.data[idx, 0], self.data[idx, 1:-2], self.data[idx, -2:]\n",
    "#         else:\n",
    "#             return self.data[idx, 1:-2], self.data[idx, -2:]\n",
    "\n",
    "\n",
    "data = OneFileDataset(\"data/fsds_competition_2_10c.csv\", return_time_stamp=False)\n",
    "train_size = int(0.8 * len(data))\n",
    "validation_size = int(0.1 * len(data))\n",
    "test_size = len(data) - train_size - validation_size\n",
    "\n",
    "train_data, validation_data, test_data = torch.utils.data.random_split(data, [train_size, validation_size, test_size])\n",
    "\n",
    "train_loader = DataLoader(train_data, batch_size=64, shuffle=True)\n",
    "validation_loader = DataLoader(validation_data, batch_size=64, shuffle=True)\n",
    "test_loader = DataLoader(test_data, batch_size=64, shuffle=True)\n"
   ]
  },
  {
   "attachments": {},
   "cell_type": "markdown",
   "metadata": {},
   "source": [
    "# Model"
   ]
  },
  {
   "cell_type": "code",
   "execution_count": null,
   "metadata": {},
   "outputs": [],
   "source": [
    "class ODE(nn.Module):\n",
    "    \"\"\"\n",
    "    This residual multilayer perceptron approximates the following parameters: F_x, F_y_R, F_y_F, I_z, v_x1, v_x2\n",
    "    from the following input: x=(X, Y, phi, v_x, v_y, r, T, delta), u=(dT, ddelta)\n",
    "    \"\"\"\n",
    "\n",
    "    def __init__(self, n_input=10, n_output=6, n_hidden=(32, 32)) -> None:\n",
    "        super().__init__()\n",
    "        self.relu = nn.ReLU()\n",
    "        self.hidden_layers = nn.ModuleList()\n",
    "        self.hidden_layers.append(nn.Linear(n_input, n_hidden[0]))\n",
    "        for i in range(len(n_hidden) - 1):\n",
    "            self.hidden_layers.append(nn.Linear(n_hidden[i], n_hidden[i + 1]))\n",
    "        self.output_layer = nn.Linear(n_hidden[-1], n_output)\n",
    "\n",
    "    def forward(self, x, u):\n",
    "        z = torch.cat((x, u), dim=1)\n",
    "        z = self.relu(self.hidden_layers[0](z)) + z\n",
    "        for i in range(1, len(self.hidden_layers)):\n",
    "            z = self.relu(self.hidden_layers[i](z)) + z\n",
    "        z = self.output_layer(z)\n",
    "        return z"
   ]
  },
  {
   "cell_type": "code",
   "execution_count": null,
   "metadata": {},
   "outputs": [],
   "source": [
    "class RK4(nn.Module):\n",
    "    \"\"\"\n",
    "    This encapsulates another neural network and implements the Runge-Kutta 4th order method.\n",
    "    \"\"\"\n",
    "\n",
    "    def __init__(self, ode=ODE()) -> None:\n",
    "        super().__init__()\n",
    "        self.ode = ode\n",
    "\n",
    "    def forward(self, x, u, dt):\n",
    "        k1 = self.ode(torch.cat((x, u), dim=1))\n",
    "        k2 = self.ode(torch.cat((x + 0.5 * dt * k1, u), dim=1))\n",
    "        k3 = self.ode(torch.cat((x + 0.5 * dt * k2, u), dim=1))\n",
    "        k4 = self.ode(torch.cat((x + dt * k3, u), dim=1))\n",
    "        return x + dt / 6.0 * (k1 + 2 * k2 + 2 * k3 + k4)"
   ]
  },
  {
   "attachments": {},
   "cell_type": "markdown",
   "metadata": {},
   "source": [
    "# Training"
   ]
  },
  {
   "cell_type": "code",
   "execution_count": null,
   "metadata": {},
   "outputs": [],
   "source": [
    "def train(model_name:str, model: nn.Module, )"
   ]
  }
 ],
 "metadata": {
  "kernelspec": {
   "display_name": "brains",
   "language": "python",
   "name": "python3"
  },
  "language_info": {
   "name": "python",
   "version": "3.9.15 | packaged by conda-forge | (main, Nov 22 2022, 08:45:29) \n[GCC 10.4.0]"
  },
  "orig_nbformat": 4,
  "vscode": {
   "interpreter": {
    "hash": "7f17a5fb231cff51a76fb4e7897f9132ad1c5872059ad096729393ff26298a0f"
   }
  }
 },
 "nbformat": 4,
 "nbformat_minor": 2
}
